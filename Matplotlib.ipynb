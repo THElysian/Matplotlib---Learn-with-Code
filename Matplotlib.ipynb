{
  "nbformat": 4,
  "nbformat_minor": 0,
  "metadata": {
    "colab": {
      "name": "Matplotlib.ipynb",
      "provenance": [],
      "collapsed_sections": [
        "6FwsY2OoynOH"
      ]
    },
    "kernelspec": {
      "name": "python3",
      "display_name": "Python 3"
    },
    "accelerator": "GPU"
  },
  "cells": [
    {
      "cell_type": "code",
      "metadata": {
        "id": "aHNg-dY3w4_h",
        "colab_type": "code",
        "colab": {}
      },
      "source": [
        "from google.colab import drive\n",
        "drive.mount('/content/drive')"
      ],
      "execution_count": 0,
      "outputs": []
    },
    {
      "cell_type": "code",
      "metadata": {
        "id": "D9zbxZ9ko5S8",
        "colab_type": "code",
        "colab": {}
      },
      "source": [
        "import os\n",
        "os.chdir ('/content/drive/My Drive/Data Analytics, ML, DL Workshop/Data Analytics - DAY 1')"
      ],
      "execution_count": 0,
      "outputs": []
    },
    {
      "cell_type": "markdown",
      "metadata": {
        "id": "6FwsY2OoynOH",
        "colab_type": "text"
      },
      "source": [
        "#Basics of Matplotlib\n"
      ]
    },
    {
      "cell_type": "markdown",
      "metadata": {
        "id": "fLYoiWO20C5a",
        "colab_type": "text"
      },
      "source": [
        "    1. Line Plot\n",
        "    2. Scatter Plot\n",
        "    3. Bar Chart\n",
        "    4. Pie Chart\n",
        "    5. Histogram\n",
        "    6. Box Plot\n",
        "\n",
        " www.https://matplotlib.org/gallery/index.html"
      ]
    },
    {
      "cell_type": "code",
      "metadata": {
        "id": "WoHcCowczDua",
        "colab_type": "code",
        "colab": {}
      },
      "source": [
        "import matplotlib\n",
        "matplotlib.__version__"
      ],
      "execution_count": 0,
      "outputs": []
    },
    {
      "cell_type": "markdown",
      "metadata": {
        "id": "n1s0HMR-zlC6",
        "colab_type": "text"
      },
      "source": [
        "#Ploting a Line Graph"
      ]
    },
    {
      "cell_type": "code",
      "metadata": {
        "id": "jGau46qDzFLI",
        "colab_type": "code",
        "colab": {}
      },
      "source": [
        "from matplotlib import pyplot as plt\n",
        "# Stackoverflow Annual Developer Day Survey\n",
        "\n",
        "# Age of the developer\n",
        "x = [25,26,27,28,29,30,31,32,33,34,35]  \n",
        "\n",
        "# Median Salary of the developer\n",
        "y = [38496,42000,46752,49320,53200,56000,62316,64928,67317,68748,73752]\n",
        "\n",
        "\n",
        "plt.plot(x,y)\n",
        "plt.show()\n"
      ],
      "execution_count": 0,
      "outputs": []
    },
    {
      "cell_type": "code",
      "metadata": {
        "id": "0oaneZhXzMDG",
        "colab_type": "code",
        "colab": {}
      },
      "source": [
        "# Setting the X Label \n",
        "plt.xlabel(\"Ages\")\n",
        "\n",
        "# Setting the Y Label\n",
        "plt.ylabel(\"Median Salary (USD)\")\n",
        "\n",
        "plt.title(\"Median Salary (USD) by Age\")\n",
        "#plt.title(\"Median Salary (USD) by Age\", fontname='Ubuntu', fontsize=14, fontstyle='italic', fontweight='bold')\n",
        "\n",
        "# Displaying the Grid\n",
        "plt.grid(True)\n",
        "\n",
        "# Changing the x axes limits of the scale\n",
        "plt.xlim(25, 35)\n",
        "\n",
        "# Changing the y axes limits of the scale\n",
        "plt.ylim(35000, 75000)\n",
        "\n",
        "# Or\n",
        "# plt.axis([25, 35, 35000, 75000]);\n",
        "\n",
        "# Putting a label for the points in the legend\n",
        "plt.plot(x,y,label='Developer')\n",
        "\n",
        "plt.legend()\n",
        "\n",
        "plt.show()"
      ],
      "execution_count": 0,
      "outputs": []
    },
    {
      "cell_type": "code",
      "metadata": {
        "id": "c4x1SI7FzUg9",
        "colab_type": "code",
        "colab": {}
      },
      "source": [
        "# Setting the style of the plotting\n",
        "# main visual aspects of the plot such as xticks, legends and labels. \n",
        "plt.style.available\n",
        "\n",
        "#plt.style.use('classic')\n",
        "#plt.style.use('ggplot')\n",
        "#plt.style.use('seaborn')\n",
        "#plt.style.use('fivethirtyeight')\n",
        "#plt.style.use('grayscale')\n",
        "#plt.xkcd()"
      ],
      "execution_count": 0,
      "outputs": []
    },
    {
      "cell_type": "code",
      "metadata": {
        "id": "34oq4B3XzebQ",
        "colab_type": "code",
        "colab": {}
      },
      "source": [
        "#Changing the Color,marker and Line Style\n",
        "plt.plot(x, y,'k-X')  # 'b-X'  Using Format String techniques (marker,line style,color)\n",
        "                      \n",
        "\n",
        "# Changing the marker of the line\n",
        "plt.plot(x, y, marker='o') # o  .  , x  +  v  ^  <  >  s d \n",
        "                     \n",
        "# Changing the color of the line\n",
        "plt.plot(x, y, color='green') # #000000    k is for black\n",
        "\n",
        "# Changing the style of the line\n",
        "plt.plot(x, y, linestyle='dashed') # solid dashed  dashdot dotted\n",
        "                                   # -- -. - \n",
        "\n",
        "# Changing the width of the line\n",
        "plt.plot(x, y, linewidth=5) \n",
        "\n",
        "\n",
        "plt.show()\n",
        "\n",
        "plt.savefig(\"scatter.jpg\")"
      ],
      "execution_count": 0,
      "outputs": []
    },
    {
      "cell_type": "markdown",
      "metadata": {
        "id": "zaefGuzVzxaW",
        "colab_type": "text"
      },
      "source": [
        "#Ploting a Scatter Plot"
      ]
    },
    {
      "cell_type": "code",
      "metadata": {
        "id": "xwReOOSpz2am",
        "colab_type": "code",
        "colab": {}
      },
      "source": [
        "# For Plotting Scatter Plot\n",
        "plt.plot(x, y, 'gs') \n",
        "\n",
        "# Showing the points on the graph\n",
        "plt.scatter(x, y)\n",
        "#plt.scatter(x, y, marker='o')\n",
        "\n",
        "# Scatter Plot with scatter method \n",
        "# o  .  , x  +  v  ^  <  >  s d \n",
        "plt.scatter(x, y, marker='.', color='black',label=\"marker='{0}'\".format('.')); \n",
        "\n",
        "\n",
        "plt.show()"
      ],
      "execution_count": 0,
      "outputs": []
    },
    {
      "cell_type": "markdown",
      "metadata": {
        "id": "WFPP331A0Ksu",
        "colab_type": "text"
      },
      "source": [
        "#Converting a Line Graph to Bar Graph"
      ]
    },
    {
      "cell_type": "code",
      "metadata": {
        "id": "-cObvycj0ZDh",
        "colab_type": "code",
        "colab": {}
      },
      "source": [
        "# Age of the developer\n",
        "x = [25,26,27,28,29,30,31,32,33,34,35]  \n",
        "\n",
        "# Median Salary of the developer\n",
        "y = [38496,42000,46752,49320,53200,56000,62316,64928,67317,68748,73752]\n",
        "\n",
        "# Setting the X Label \n",
        "plt.xlabel(\"Ages\")\n",
        "\n",
        "# Setting the Y Label\n",
        "plt.ylabel(\"Median Salary (USD)\")\n",
        "\n",
        "plt.title(\"Median Salary (USD) by Age\")\n",
        "\n",
        "# Change the plot funciton to Bar function Vertically\n",
        "plt.bar(x,y,label='Developer')\n",
        "\n",
        "plt.legend()\n",
        "\n",
        "plt.show()"
      ],
      "execution_count": 0,
      "outputs": []
    },
    {
      "cell_type": "markdown",
      "metadata": {
        "id": "UIdqUqEu0ep-",
        "colab_type": "text"
      },
      "source": [
        "#Ploting a Bar Graph"
      ]
    },
    {
      "cell_type": "code",
      "metadata": {
        "id": "LGCPaB_t0ja7",
        "colab_type": "code",
        "colab": {}
      },
      "source": [
        "labels = ('Python', 'C++', 'Java', 'Perl', 'Scala', 'Lisp')\n",
        "x_index = [0,1,2,3,4,5]\n",
        "\n",
        "performance = [10,8,6,4,2,1]\n",
        "\n",
        "\n",
        "# indexes is the first parameter \n",
        "plt.bar(x_index, performance, width = 0.8, align='center', alpha=1.0)\n",
        "\n",
        "# First Parameters is the indexes and second paramters is the labels\n",
        "plt.xticks(x_index, labels)\n",
        "\n",
        "plt.ylabel('Usage')\n",
        "\n",
        "plt.title('Programming Language Usage')\n",
        " \n",
        "plt.show()"
      ],
      "execution_count": 0,
      "outputs": []
    },
    {
      "cell_type": "markdown",
      "metadata": {
        "id": "2DMuvaHv0o7H",
        "colab_type": "text"
      },
      "source": [
        "#Advance Example of Bar Graph"
      ]
    },
    {
      "cell_type": "code",
      "metadata": {
        "id": "7JHIw6eE0vku",
        "colab_type": "code",
        "colab": {}
      },
      "source": [
        "# 14 categories of movies\n",
        "label = ['Adventure', 'Action', 'Drama', 'Comedy', \\\n",
        "         'Thriller/Suspense', 'Horror', 'Romantic Comedy', 'Musical', \\\n",
        "         'Documentary', 'Black Comedy', 'Western', 'Concert/Performance', \\\n",
        "         'Multiple Genres', 'Reality']\n",
        "index = [0,1,2,3,4,5,6,7,8,9,10,11,12,13]\n",
        " \n",
        "no_movies = [941,854,4595,2125,942,509,548,149,1952,161,64,61,35,5]\n",
        "\n",
        "\n",
        "\n",
        "plt.bar(index, no_movies)\n",
        "plt.xlabel('Genre', fontsize=15)\n",
        "plt.ylabel('No of Movies', fontsize=15)\n",
        "plt.xticks(index, label, fontsize=10, rotation=45)\n",
        "plt.title('Market Share for Each Genre 1995-2017')\n",
        "plt.show()"
      ],
      "execution_count": 0,
      "outputs": []
    },
    {
      "cell_type": "markdown",
      "metadata": {
        "id": "DQ-RFhDL0xXU",
        "colab_type": "text"
      },
      "source": [
        "#Pie Chart - to show proportions"
      ]
    },
    {
      "cell_type": "code",
      "metadata": {
        "id": "GXeAizUU1AHm",
        "colab_type": "code",
        "colab": {}
      },
      "source": [
        "plt.style.use('fivethirtyeight')"
      ],
      "execution_count": 0,
      "outputs": []
    },
    {
      "cell_type": "code",
      "metadata": {
        "id": "3sGSuXtL1Mwt",
        "colab_type": "code",
        "colab": {}
      },
      "source": [
        "slices = [60,40]\n",
        "plt.pie(slices)\n",
        "plt.show()"
      ],
      "execution_count": 0,
      "outputs": []
    },
    {
      "cell_type": "code",
      "metadata": {
        "id": "O40nz-9g1P7G",
        "colab_type": "code",
        "colab": {}
      },
      "source": [
        "slices = [120,80] \n",
        "labels = ['Sixty','Forty']\n",
        "plt.pie(slices,labels=labels)\n",
        "plt.show()"
      ],
      "execution_count": 0,
      "outputs": []
    },
    {
      "cell_type": "code",
      "metadata": {
        "id": "cz-c4UV21TmL",
        "colab_type": "code",
        "colab": {}
      },
      "source": [
        "# Some Seperators \n",
        "import matplotlib.pyplot as plt\n",
        "#plt.style.use('fivethirtyeight')\n",
        "\n",
        "slices = [120,80] \n",
        "labels = ['Sixty','Forty']\n",
        "plt.pie(slices,labels=labels, wedgeprops={'edgecolor':'black'})\n",
        "plt.show()"
      ],
      "execution_count": 0,
      "outputs": []
    },
    {
      "cell_type": "code",
      "metadata": {
        "id": "9dtwQodo1iPJ",
        "colab_type": "code",
        "colab": {}
      },
      "source": [
        "# Colors \n",
        "# Colors:\n",
        "# Blue = #008fd5\n",
        "# Red = #fc4f30\n",
        "# Yellow = #e5ae37\n",
        "# Green = #6d904f\n",
        "\n",
        "import matplotlib.pyplot as plt\n",
        "#plt.style.use('fivethirtyeight')\n",
        "\n",
        "slices = [120,80,30,20] \n",
        "labels = ['Sixty','Forty','Extra1','Extra2']\n",
        "colors =['blue','red','yellow','green']\n",
        "#colors =['#008fd5','#fc4f30','#e5ae37','#6d904f']\n",
        "\n",
        "plt.pie(slices,labels=labels, colors=colors, wedgeprops={'edgecolor':'black'})\n",
        "\n",
        "plt.show()"
      ],
      "execution_count": 0,
      "outputs": []
    },
    {
      "cell_type": "code",
      "metadata": {
        "id": "VZCWac011niF",
        "colab_type": "code",
        "colab": {}
      },
      "source": [
        "# explode 1st slice to 10% of the radius\n",
        "#plt.style.use('fivethirtyeight')          \n",
        "labels = ('CSE', 'ECE', 'IT', 'EE')\n",
        "slices = [15, 30, 25, 10]\n",
        "explode = (0.1, 0, 0, 0)  # explode 1st slice to 10% of the radius\n",
        "\n",
        "plt.pie(slices, explode=explode,labels=labels, autopct='%.0f%%')\n",
        "plt.axis('equal')  # Equal aspect ratio ensures that pie is drawn as a circle.\n",
        "plt.show()"
      ],
      "execution_count": 0,
      "outputs": []
    },
    {
      "cell_type": "code",
      "metadata": {
        "id": "Y3MydKo71w7K",
        "colab_type": "code",
        "colab": {}
      },
      "source": [
        "# Pie Chart does not look good when comparing more than 5 data \n",
        "# Better to use Bar Chart"
      ],
      "execution_count": 0,
      "outputs": []
    },
    {
      "cell_type": "markdown",
      "metadata": {
        "id": "qoQ58f6n15OT",
        "colab_type": "text"
      },
      "source": [
        "#Histogram - Bar Graph of Frequency"
      ]
    },
    {
      "cell_type": "markdown",
      "metadata": {
        "id": "JZs9bXgf2IOw",
        "colab_type": "text"
      },
      "source": [
        "A histogram is used **to summarize discrete or continuous data**. \n",
        "In other words, it provides a visual interpretation of numerical data by \n",
        "showing the number of data points that fall within a specified range of \n",
        "values (called \"bins\").\n",
        "However, a histogram, unlike a vertical bar graph, shows no gaps between the bars.\n",
        "\n",
        "\n",
        "X Axis = width = Class Interval\n",
        "Y Axis = height = Frequency\n",
        "\n",
        "Creating a histogram provides a visual representation of data distribution.\n",
        "The median and distribution of the data can be determined by a histogram.\n",
        "It can show any outliers or gaps in the data.\n",
        "\n",
        "**Types of Distribution**\n",
        "1. Normal distribution\n",
        "    Points on one side of the average are as likely to occur as on the other \n",
        "    side of the average\n",
        "\n",
        "2. Bimodal distribution\n",
        "    There are two peaks\n",
        "    The data should be separated and analyzed as separate normal distributions\n",
        "    \n",
        "3. Right-skewed distribution\n",
        "    A large number of the data values occur on the left side \n",
        "\n",
        "4. Left-skewed distribution\n",
        "    A large number of the data values occur on the right side\n",
        "\n",
        "5. Random distribution\n",
        "    Has several peaks"
      ]
    },
    {
      "cell_type": "code",
      "metadata": {
        "id": "5p0oBX5d2lsJ",
        "colab_type": "code",
        "colab": {}
      },
      "source": [
        "# Customers wait times in seconds ( n = 20 customers )\n",
        "customerWaitTime = [43.1,35.6,37.6,45.3,43.5,40.3,50.2,47.3,31.2,42.2,45.5,30.3\\\n",
        "                    ,31.4,35.6,45.2,54.1,45.6,36.5,43.1]\n",
        "\n",
        "customerWaitTime.sort()\n",
        "print (customerWaitTime)\n",
        "# [30.3, 31.2, 31.4, 35.6, 35.6, 36.5, 37.6, 40.3, 42.2, 43.1, 43.1, 43.5, 45.2,\n",
        "# 45.3, 45.5, 45.6, 47.3, 50.2, 54.1]\n",
        "\n",
        "# [25 to 30]                                          [0]\n",
        "# [30 to 35]     30.3, 31.2, 31.4                     [3]\n",
        "# [35 to 40]     35.6, 35.6, 36.5, 37.6               [4]\n",
        "# [40 to 45]     40.3, 42.2, 43.1, 43.1, 43.5         [5]\n",
        "# [45 to 50]     45.2, 45.3, 45.5, 45.6, 47.3         [5]\n",
        "# [50 to 55]     50.2, 54.1                           [2]\n",
        "# [55 to 60]                                          [0]\n",
        "\n",
        "\n",
        "#Ramesh can conclude that the majority of customers wait between 35 and 50 seconds.\n",
        " \n",
        "plt.hist(customerWaitTime,bins=[25,30,35,40,45,50,55,60]) \n",
        "\n",
        "plt.axis([25, 60, 0, 6]) \n",
        "plt.xlabel('Seconds')\n",
        "plt.ylabel('Customers')\n",
        "plt.show()"
      ],
      "execution_count": 0,
      "outputs": []
    }
  ]
}